{
 "cells": [
  {
   "cell_type": "code",
   "execution_count": 1,
   "metadata": {},
   "outputs": [],
   "source": [
    "import pandas as pd\n",
    "import seaborn as sns\n",
    "import matplotlib.pyplot as plt\n",
    "from datetime import datetime"
   ]
  },
  {
   "cell_type": "code",
   "execution_count": 2,
   "metadata": {},
   "outputs": [],
   "source": [
    "import os\n",
    "os.chdir(\"../\")"
   ]
  },
  {
   "cell_type": "code",
   "execution_count": 3,
   "metadata": {},
   "outputs": [],
   "source": [
    "df = pd.read_csv(\"dataset/results.csv\")\n",
    "df.columns = [\"price\"]\n",
    "logs = pd.read_csv(\"dataset/logs.log\", sep = \";\", header=None)\n",
    "logs.columns = [\"Message\", \"Variable\", \"Datetime\"]"
   ]
  },
  {
   "cell_type": "code",
   "execution_count": 4,
   "metadata": {},
   "outputs": [
    {
     "data": {
      "text/html": [
       "<div>\n",
       "<style scoped>\n",
       "    .dataframe tbody tr th:only-of-type {\n",
       "        vertical-align: middle;\n",
       "    }\n",
       "\n",
       "    .dataframe tbody tr th {\n",
       "        vertical-align: top;\n",
       "    }\n",
       "\n",
       "    .dataframe thead th {\n",
       "        text-align: right;\n",
       "    }\n",
       "</style>\n",
       "<table border=\"1\" class=\"dataframe\">\n",
       "  <thead>\n",
       "    <tr style=\"text-align: right;\">\n",
       "      <th></th>\n",
       "      <th>price</th>\n",
       "    </tr>\n",
       "  </thead>\n",
       "  <tbody>\n",
       "    <tr>\n",
       "      <th>0</th>\n",
       "      <td>12.667195</td>\n",
       "    </tr>\n",
       "    <tr>\n",
       "      <th>1</th>\n",
       "      <td>14.132531</td>\n",
       "    </tr>\n",
       "    <tr>\n",
       "      <th>2</th>\n",
       "      <td>12.869995</td>\n",
       "    </tr>\n",
       "    <tr>\n",
       "      <th>3</th>\n",
       "      <td>12.969216</td>\n",
       "    </tr>\n",
       "    <tr>\n",
       "      <th>4</th>\n",
       "      <td>13.991106</td>\n",
       "    </tr>\n",
       "  </tbody>\n",
       "</table>\n",
       "</div>"
      ],
      "text/plain": [
       "       price\n",
       "0  12.667195\n",
       "1  14.132531\n",
       "2  12.869995\n",
       "3  12.969216\n",
       "4  13.991106"
      ]
     },
     "execution_count": 4,
     "metadata": {},
     "output_type": "execute_result"
    }
   ],
   "source": [
    "df.head()"
   ]
  },
  {
   "cell_type": "code",
   "execution_count": 5,
   "metadata": {},
   "outputs": [
    {
     "data": {
      "text/html": [
       "<div>\n",
       "<style scoped>\n",
       "    .dataframe tbody tr th:only-of-type {\n",
       "        vertical-align: middle;\n",
       "    }\n",
       "\n",
       "    .dataframe tbody tr th {\n",
       "        vertical-align: top;\n",
       "    }\n",
       "\n",
       "    .dataframe thead th {\n",
       "        text-align: right;\n",
       "    }\n",
       "</style>\n",
       "<table border=\"1\" class=\"dataframe\">\n",
       "  <thead>\n",
       "    <tr style=\"text-align: right;\">\n",
       "      <th></th>\n",
       "      <th>Message</th>\n",
       "      <th>Variable</th>\n",
       "      <th>Datetime</th>\n",
       "    </tr>\n",
       "  </thead>\n",
       "  <tbody>\n",
       "    <tr>\n",
       "      <th>0</th>\n",
       "      <td>WARNING:root:KEY_DUPLICATION</td>\n",
       "      <td>['id']</td>\n",
       "      <td>2024-11-14 21:58:52.260841</td>\n",
       "    </tr>\n",
       "    <tr>\n",
       "      <th>1</th>\n",
       "      <td>WARNING:root:NULL_TOLERANCE</td>\n",
       "      <td>area_total</td>\n",
       "      <td>2024-11-14 22:01:05.352273</td>\n",
       "    </tr>\n",
       "    <tr>\n",
       "      <th>2</th>\n",
       "      <td>WARNING:root:19678 CASES OUT OF BOUNDS</td>\n",
       "      <td>quartos</td>\n",
       "      <td>2024-11-14 22:04:34.895204</td>\n",
       "    </tr>\n",
       "    <tr>\n",
       "      <th>3</th>\n",
       "      <td>WARNING:root:KEY_DUPLICATION</td>\n",
       "      <td>['id']</td>\n",
       "      <td>2024-11-14 22:08:55.983341</td>\n",
       "    </tr>\n",
       "    <tr>\n",
       "      <th>4</th>\n",
       "      <td>WARNING:root:19678 CASES OUT OF BOUNDS</td>\n",
       "      <td>quartos</td>\n",
       "      <td>2024-11-14 22:08:55.989361</td>\n",
       "    </tr>\n",
       "  </tbody>\n",
       "</table>\n",
       "</div>"
      ],
      "text/plain": [
       "                                   Message     Variable  \\\n",
       "0            WARNING:root:KEY_DUPLICATION        ['id']   \n",
       "1             WARNING:root:NULL_TOLERANCE    area_total   \n",
       "2  WARNING:root:19678 CASES OUT OF BOUNDS       quartos   \n",
       "3            WARNING:root:KEY_DUPLICATION        ['id']   \n",
       "4  WARNING:root:19678 CASES OUT OF BOUNDS       quartos   \n",
       "\n",
       "                      Datetime  \n",
       "0   2024-11-14 21:58:52.260841  \n",
       "1   2024-11-14 22:01:05.352273  \n",
       "2   2024-11-14 22:04:34.895204  \n",
       "3   2024-11-14 22:08:55.983341  \n",
       "4   2024-11-14 22:08:55.989361  "
      ]
     },
     "execution_count": 5,
     "metadata": {},
     "output_type": "execute_result"
    }
   ],
   "source": [
    "logs.head()"
   ]
  },
  {
   "cell_type": "code",
   "execution_count": 6,
   "metadata": {},
   "outputs": [
    {
     "data": {
      "text/html": [
       "<div>\n",
       "<style scoped>\n",
       "    .dataframe tbody tr th:only-of-type {\n",
       "        vertical-align: middle;\n",
       "    }\n",
       "\n",
       "    .dataframe tbody tr th {\n",
       "        vertical-align: top;\n",
       "    }\n",
       "\n",
       "    .dataframe thead th {\n",
       "        text-align: right;\n",
       "    }\n",
       "</style>\n",
       "<table border=\"1\" class=\"dataframe\">\n",
       "  <thead>\n",
       "    <tr style=\"text-align: right;\">\n",
       "      <th></th>\n",
       "      <th>Message</th>\n",
       "      <th>Variable</th>\n",
       "      <th>Datetime</th>\n",
       "    </tr>\n",
       "  </thead>\n",
       "  <tbody>\n",
       "    <tr>\n",
       "      <th>0</th>\n",
       "      <td>KEY_DUPLICATION</td>\n",
       "      <td>['id']</td>\n",
       "      <td>2024-11-14 21:58:52.260841</td>\n",
       "    </tr>\n",
       "    <tr>\n",
       "      <th>1</th>\n",
       "      <td>NULL_TOLERANCE</td>\n",
       "      <td>area_total</td>\n",
       "      <td>2024-11-14 22:01:05.352273</td>\n",
       "    </tr>\n",
       "    <tr>\n",
       "      <th>2</th>\n",
       "      <td>19678 CASES OUT OF BOUNDS</td>\n",
       "      <td>quartos</td>\n",
       "      <td>2024-11-14 22:04:34.895204</td>\n",
       "    </tr>\n",
       "    <tr>\n",
       "      <th>3</th>\n",
       "      <td>KEY_DUPLICATION</td>\n",
       "      <td>['id']</td>\n",
       "      <td>2024-11-14 22:08:55.983341</td>\n",
       "    </tr>\n",
       "    <tr>\n",
       "      <th>4</th>\n",
       "      <td>19678 CASES OUT OF BOUNDS</td>\n",
       "      <td>quartos</td>\n",
       "      <td>2024-11-14 22:08:55.989361</td>\n",
       "    </tr>\n",
       "  </tbody>\n",
       "</table>\n",
       "</div>"
      ],
      "text/plain": [
       "                      Message     Variable                     Datetime\n",
       "0            KEY_DUPLICATION        ['id']   2024-11-14 21:58:52.260841\n",
       "1             NULL_TOLERANCE    area_total   2024-11-14 22:01:05.352273\n",
       "2  19678 CASES OUT OF BOUNDS       quartos   2024-11-14 22:04:34.895204\n",
       "3            KEY_DUPLICATION        ['id']   2024-11-14 22:08:55.983341\n",
       "4  19678 CASES OUT OF BOUNDS       quartos   2024-11-14 22:08:55.989361"
      ]
     },
     "execution_count": 6,
     "metadata": {},
     "output_type": "execute_result"
    }
   ],
   "source": [
    "logs['Message'] = logs['Message'].str.replace(r'WARNING:root:', '', regex=True)\n",
    "logs.head()"
   ]
  },
  {
   "cell_type": "code",
   "execution_count": 8,
   "metadata": {},
   "outputs": [
    {
     "data": {
      "image/png": "[encoded data removed]",
      "text/plain": [
       "<Figure size 640x480 with 1 Axes>"
      ]
     },
     "metadata": {},
     "output_type": "display_data"
    }
   ],
   "source": [
    "sns.histplot(data=df, x=\"price\", kde=True).set_title(\"Distribuição Predito\")\n",
    "plt.savefig('assets/chart.png')"
   ]
  },
  {
   "cell_type": "code",
   "execution_count": 11,
   "metadata": {},
   "outputs": [],
   "source": [
    "page_title_text='Acompanhamento do processo de predição'\n",
    "title_text = 'Acompanhamento do processo de predição'\n",
    "text = f'Acompanhamento do modelo diário - {datetime.now().date()}'\n",
    "logs_text = 'Logs de acompanhamento do processo'\n",
    "\n",
    "html = f'''\n",
    "    <html>\n",
    "        <head>\n",
    "            <title>{page_title_text}</title>\n",
    "        </head>\n",
    "        <body>\n",
    "            <h1>{title_text}</h1>\n",
    "            <p>{text}</p>\n",
    "            <img src=\"chart.png\">\n",
    "            <h2>{logs_text}</h2>\n",
    "            {logs.head(3).to_html()}\n",
    "        </body>\n",
    "    </html>\n",
    "    '''\n",
    "with open('assets/html_report.html', 'w') as f:\n",
    "    f.write(html)"
   ]
  }
 ],
 "metadata": {
  "kernelspec": {
   "display_name": "base",
   "language": "python",
   "name": "python3"
  },
  "language_info": {
   "codemirror_mode": {
    "name": "ipython",
    "version": 3
   },
   "file_extension": ".py",
   "mimetype": "text/x-python",
   "name": "python",
   "nbconvert_exporter": "python",
   "pygments_lexer": "ipython3",
   "version": "3.12.4"
  }
 },
 "nbformat": 4,
 "nbformat_minor": 2
}
