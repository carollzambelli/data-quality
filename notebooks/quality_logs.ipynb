{
 "cells": [
  {
   "cell_type": "code",
   "execution_count": 1,
   "metadata": {},
   "outputs": [],
   "source": [
    "import os\n",
    "os.chdir(\"../\")"
   ]
  },
  {
   "cell_type": "code",
   "execution_count": 2,
   "metadata": {},
   "outputs": [],
   "source": [
    "\n",
    "import pandas as pd\n",
    "import json\n",
    "from sklearn.pipeline import Pipeline\n",
    "from src.prepare import Prepare\n",
    "from src.validator import Validator\n",
    "import logging"
   ]
  },
  {
   "cell_type": "code",
   "execution_count": 3,
   "metadata": {},
   "outputs": [],
   "source": [
    "def prepare(config_path):\n",
    "\n",
    "    configs = json.load(open(config_path))\n",
    "    meta_schema = pd.read_excel(configs[\"meta_path\"], sheet_name=\"schema\")\n",
    "    df = pd.read_csv(configs[\"data_path\"])\n",
    "    pp = Prepare(df, meta_schema)\n",
    "\n",
    "    Pipeline([\n",
    "        ('seleciona_colunas', pp.select_cols()),\n",
    "        ('renomeia colunas', pp.rename_cols()),\n",
    "        ('atribui tipos', pp.data_type()),\n",
    "        ])\n",
    "\n",
    "    return pp.return_data(), configs\n"
   ]
  },
  {
   "cell_type": "code",
   "execution_count": 4,
   "metadata": {},
   "outputs": [],
   "source": [
    "def generate_report(config_path):\n",
    "\n",
    "    df, configs = prepare(config_path)\n",
    "\n",
    "    logging.basicConfig(filename=configs[\"report_path\"], level=logging.INFO)\n",
    "    meta_quality = pd.read_excel(configs[\"meta_path\"], sheet_name=\"quality\")\n",
    "    val = Validator(df, meta_quality)\n",
    "\n",
    "    for f in [\"key_validation\",\"limits_validation\",\"null_validation\"]:\n",
    "        func = getattr(val, f)\n",
    "        func()\n",
    "\n",
    "    return True"
   ]
  },
  {
   "cell_type": "code",
   "execution_count": null,
   "metadata": {},
   "outputs": [
    {
     "data": {
      "text/plain": [
       "True"
      ]
     },
     "execution_count": 5,
     "metadata": {},
     "output_type": "execute_result"
    }
   ],
   "source": [
    "generate_report(\"assets/path_config.json\")"
   ]
  }
 ],
 "metadata": {
  "kernelspec": {
   "display_name": "base",
   "language": "python",
   "name": "python3"
  },
  "language_info": {
   "codemirror_mode": {
    "name": "ipython",
    "version": 3
   },
   "file_extension": ".py",
   "mimetype": "text/x-python",
   "name": "python",
   "nbconvert_exporter": "python",
   "pygments_lexer": "ipython3",
   "version": "3.12.4"
  }
 },
 "nbformat": 4,
 "nbformat_minor": 2
}
